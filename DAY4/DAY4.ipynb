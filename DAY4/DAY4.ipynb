{
 "cells": [
  {
   "cell_type": "markdown",
   "metadata": {},
   "source": [
    "- Object oriented programming(oops)\n",
    "\n",
    "- Class:\n",
    "    - Blueprint for creating an object\n",
    "    - Collection of variables and methods"
   ]
  },
  {
   "cell_type": "code",
   "execution_count": 1,
   "metadata": {},
   "outputs": [
    {
     "name": "stdout",
     "output_type": "stream",
     "text": [
      "<class 'list'>\n"
     ]
    }
   ],
   "source": [
    "a = [1,2,3]\n",
    "print(type(a))"
   ]
  },
  {
   "cell_type": "code",
   "execution_count": 2,
   "metadata": {},
   "outputs": [
    {
     "name": "stdout",
     "output_type": "stream",
     "text": [
      "['__add__', '__class__', '__contains__', '__delattr__', '__delitem__', '__dir__', '__doc__', '__eq__', '__format__', '__ge__', '__getattribute__', '__getitem__', '__gt__', '__hash__', '__iadd__', '__imul__', '__init__', '__init_subclass__', '__iter__', '__le__', '__len__', '__lt__', '__mul__', '__ne__', '__new__', '__reduce__', '__reduce_ex__', '__repr__', '__reversed__', '__rmul__', '__setattr__', '__setitem__', '__sizeof__', '__str__', '__subclasshook__', 'append', 'clear', 'copy', 'count', 'extend', 'index', 'insert', 'pop', 'remove', 'reverse', 'sort']\n"
     ]
    }
   ],
   "source": [
    "print(dir(list))"
   ]
  },
  {
   "cell_type": "code",
   "execution_count": 4,
   "metadata": {},
   "outputs": [
    {
     "name": "stdout",
     "output_type": "stream",
     "text": [
      "Help on method_descriptor:\n",
      "\n",
      "append(self, object, /)\n",
      "    Append object to the end of the list.\n",
      "\n",
      "None\n"
     ]
    }
   ],
   "source": [
    "print(help(list.append))"
   ]
  },
  {
   "cell_type": "code",
   "execution_count": 7,
   "metadata": {},
   "outputs": [
    {
     "name": "stdout",
     "output_type": "stream",
     "text": [
      "<function Person.greet at 0x000001F677CFAA60>\n",
      "21\n"
     ]
    }
   ],
   "source": [
    "class Person:\n",
    "    age = 21\n",
    "    def greet(self):\n",
    "        print(\"Hello\")\n",
    "print(Person.greet)\n",
    "print(Person.age)"
   ]
  },
  {
   "cell_type": "markdown",
   "metadata": {},
   "source": [
    "### Object:\n",
    "\n",
    "- Instance of class"
   ]
  },
  {
   "cell_type": "code",
   "execution_count": 17,
   "metadata": {},
   "outputs": [
    {
     "name": "stdout",
     "output_type": "stream",
     "text": [
      "Hello\n"
     ]
    }
   ],
   "source": [
    "class Person:\n",
    "    age = 21\n",
    "    def greet(self):\n",
    "        print(\"Hello\")\n",
    "p = Person()\n",
    "p.greet()"
   ]
  },
  {
   "cell_type": "code",
   "execution_count": 10,
   "metadata": {},
   "outputs": [
    {
     "data": {
      "text/plain": [
       "21"
      ]
     },
     "execution_count": 10,
     "metadata": {},
     "output_type": "execute_result"
    }
   ],
   "source": [
    "p.age"
   ]
  },
  {
   "cell_type": "code",
   "execution_count": 15,
   "metadata": {},
   "outputs": [
    {
     "name": "stdout",
     "output_type": "stream",
     "text": [
      "5\n"
     ]
    }
   ],
   "source": [
    "def add():\n",
    "    c =2+3\n",
    "    print(c)\n",
    "add()"
   ]
  },
  {
   "cell_type": "markdown",
   "metadata": {},
   "source": [
    "#### Constructors"
   ]
  },
  {
   "cell_type": "code",
   "execution_count": 19,
   "metadata": {},
   "outputs": [
    {
     "name": "stdout",
     "output_type": "stream",
     "text": [
      "i am a constructor\n"
     ]
    },
    {
     "data": {
      "text/plain": [
       "'python'"
      ]
     },
     "execution_count": 19,
     "metadata": {},
     "output_type": "execute_result"
    }
   ],
   "source": [
    "class Apssdc:\n",
    "    d = \"python\"\n",
    "    def __init__(self):\n",
    "        print(\"i am a constructor\")\n",
    "x = Apssdc()\n",
    "x.d      \n",
    "    "
   ]
  },
  {
   "cell_type": "code",
   "execution_count": 26,
   "metadata": {},
   "outputs": [
    {
     "name": "stdout",
     "output_type": "stream",
     "text": [
      "i am a constructor\n",
      "10 20\n"
     ]
    }
   ],
   "source": [
    "class Apssdc:\n",
    "    \n",
    "    def __init__(self,a,b):\n",
    "        print(\"i am a constructor\")\n",
    "        print(a,b)\n",
    "x = Apssdc(10,20)\n",
    " "
   ]
  },
  {
   "cell_type": "code",
   "execution_count": 27,
   "metadata": {},
   "outputs": [
    {
     "name": "stdout",
     "output_type": "stream",
     "text": [
      "alekhya\n",
      "9876543210\n"
     ]
    }
   ],
   "source": [
    "class Apssdc:\n",
    "    def __init__(self,name,number):\n",
    "        self.name=name\n",
    "        self.number=number\n",
    "    def display(self):\n",
    "        print(self.name)\n",
    "        print(self.number)\n",
    "    def display1(self):\n",
    "        print(self.number)\n",
    "x = Apssdc(\"alekhya\",9876543210)  \n",
    "x.display()"
   ]
  },
  {
   "cell_type": "code",
   "execution_count": 25,
   "metadata": {},
   "outputs": [
    {
     "name": "stdout",
     "output_type": "stream",
     "text": [
      "9876543210\n"
     ]
    }
   ],
   "source": [
    "x.display1()"
   ]
  },
  {
   "cell_type": "markdown",
   "metadata": {},
   "source": [
    "### Inheritance\n"
   ]
  },
  {
   "cell_type": "code",
   "execution_count": 33,
   "metadata": {},
   "outputs": [
    {
     "name": "stdout",
     "output_type": "stream",
     "text": [
      "derived class\n",
      "alekhya\n"
     ]
    }
   ],
   "source": [
    "class A:#base class/parent class\n",
    "    def details(self,name):\n",
    "        self.name=name\n",
    "        print(self.name)\n",
    "class B(A):#derived class/chlid class\n",
    "    def display(self):\n",
    "        print(\"derived class\")\n",
    "z = B()\n",
    "z.display()\n",
    "z.details(\"alekhya\")"
   ]
  },
  {
   "cell_type": "markdown",
   "metadata": {},
   "source": [
    "### Multiple Inheritance\n",
    "- one class acquries the properties of one or more parent class"
   ]
  },
  {
   "cell_type": "code",
   "execution_count": 36,
   "metadata": {},
   "outputs": [
    {
     "name": "stdout",
     "output_type": "stream",
     "text": [
      "i am from a class\n",
      "i am from b class\n",
      "i am child class\n"
     ]
    }
   ],
   "source": [
    "class A:\n",
    "    def display(self):\n",
    "        print(\"i am from a class\")\n",
    "class B:\n",
    "    def display1(self):\n",
    "        print(\"i am from b class\")\n",
    "class C(A,B):\n",
    "    def display2(self):\n",
    "        print(\"i am child class\")\n",
    "x = C()\n",
    "x.display()\n",
    "x.display1()\n",
    "x.display2()"
   ]
  },
  {
   "cell_type": "code",
   "execution_count": 37,
   "metadata": {},
   "outputs": [
    {
     "name": "stdout",
     "output_type": "stream",
     "text": [
      "i am from a class\n",
      "i am from b class\n",
      "i am child class\n"
     ]
    }
   ],
   "source": [
    "#Multi level inheritance\n",
    "class A:\n",
    "    def display(self):\n",
    "        print(\"i am from a class\")\n",
    "class B(A):\n",
    "    def display1(self):\n",
    "        print(\"i am from b class\")\n",
    "class C(B):\n",
    "    def display2(self):\n",
    "        print(\"i am child class\")\n",
    "x = C()\n",
    "x.display()\n",
    "x.display1()\n",
    "x.display2()"
   ]
  },
  {
   "cell_type": "code",
   "execution_count": null,
   "metadata": {},
   "outputs": [],
   "source": []
  },
  {
   "cell_type": "code",
   "execution_count": 38,
   "metadata": {
    "collapsed": true
   },
   "outputs": [
    {
     "name": "stdout",
     "output_type": "stream",
     "text": [
      "\n",
      "Please wait a moment while I gather a list of all available modules...\n",
      "\n"
     ]
    },
    {
     "name": "stderr",
     "output_type": "stream",
     "text": [
      "C:\\Users\\Alekhya\\Anaconda3\\lib\\site-packages\\IPython\\kernel\\__init__.py:13: ShimWarning: The `IPython.kernel` package has been deprecated since IPython 4.0.You should import from ipykernel or jupyter_client instead.\n",
      "  \"You should import from ipykernel or jupyter_client instead.\", ShimWarning)\n",
      "WARNING: AstropyDeprecationWarning: astropy.utils.compat.futures is now deprecated - use concurrent.futures instead [astropy.utils.compat.futures]\n",
      "C:\\Users\\Alekhya\\Anaconda3\\lib\\site-packages\\dask\\config.py:168: YAMLLoadWarning: calling yaml.load() without Loader=... is deprecated, as the default Loader is unsafe. Please read https://msg.pyyaml.org/load for full details.\n",
      "  data = yaml.load(f.read()) or {}\n",
      "C:\\Users\\Alekhya\\Anaconda3\\lib\\site-packages\\distributed\\config.py:20: YAMLLoadWarning: calling yaml.load() without Loader=... is deprecated, as the default Loader is unsafe. Please read https://msg.pyyaml.org/load for full details.\n",
      "  defaults = yaml.load(f)\n",
      "C:\\Users\\Alekhya\\Anaconda3\\lib\\site-packages\\nltk\\twitter\\__init__.py:22: UserWarning: The twython library has not been installed. Some functionality from the twitter package will not be available.\n",
      "  \"The twython library has not been installed. \"\n"
     ]
    },
    {
     "name": "stdout",
     "output_type": "stream",
     "text": [
      "DEBUG:pip._internal.vcs.versioncontrol:Registered VCS backend: bzr\n",
      "DEBUG:pip._internal.vcs.versioncontrol:Registered VCS backend: git\n",
      "DEBUG:pip._internal.vcs.versioncontrol:Registered VCS backend: hg\n",
      "DEBUG:pip._internal.vcs.versioncontrol:Registered VCS backend: svn\n"
     ]
    },
    {
     "name": "stderr",
     "output_type": "stream",
     "text": [
      "C:\\Users\\Alekhya\\Anaconda3\\lib\\site-packages\\skimage\\novice\\__init__.py:103: UserWarning: The `skimage.novice` module was deprecated in version 0.14. It will be removed in 0.16.\n",
      "  warnings.warn(\"The `skimage.novice` module was deprecated in version 0.14. \"\n",
      "C:\\Users\\Alekhya\\Anaconda3\\lib\\site-packages\\skimage\\viewer\\utils\\core.py:10: UserWarning: Recommended matplotlib backend is `Agg` for full skimage.viewer functionality.\n",
      "  warn(\"Recommended matplotlib backend is `Agg` for full \"\n",
      "C:\\Users\\Alekhya\\Anaconda3\\lib\\site-packages\\sphinx\\websupport\\__init__.py:25: RemovedInSphinx20Warning: sphinx.websupport module is now provided as sphinxcontrib-websupport. sphinx.websupport will be removed at Sphinx-2.0. Please use the package instead.\n",
      "  RemovedInSphinx20Warning)\n",
      "C:\\Users\\Alekhya\\Anaconda3\\lib\\site-packages\\qtawesome\\iconic_font.py:276: UserWarning: You need to have a running QApplication to use QtAwesome!\n",
      "  warnings.warn(\"You need to have a running \"\n",
      "C:\\Users\\Alekhya\\Anaconda3\\lib\\pkgutil.py:107: VisibleDeprecationWarning: zmq.eventloop.minitornado is deprecated in pyzmq 14.0 and will be removed.\n",
      "    Install tornado itself to use zmq with the tornado IOLoop.\n",
      "    \n",
      "  yield from walk_packages(path, info.name+'.', onerror)\n"
     ]
    },
    {
     "name": "stdout",
     "output_type": "stream",
     "text": [
      "Crypto              bz2                 menuinst            sortedcollections\n",
      "Cython              cProfile            mimetypes           sortedcontainers\n",
      "IPython             calendar            mistune             soupsieve\n",
      "OpenSSL             certifi             mkl                 sphinx\n",
      "PIL                 cffi                mkl_fft             sphinxcontrib\n",
      "PyQt5               cgi                 mkl_random          spyder\n",
      "__future__          cgitb               mmap                spyder_breakpoints\n",
      "_abc                chardet             mmapfile            spyder_io_dcm\n",
      "_ast                chunk               mmsystem            spyder_io_hdf5\n",
      "_asyncio            click               modulefinder        spyder_kernels\n",
      "_bisect             cloudpickle         more_itertools      spyder_profiler\n",
      "_blake2             clyent              mpmath              spyder_pylint\n",
      "_bootlocale         cmath               msgpack             sqlalchemy\n",
      "_bz2                cmd                 msilib              sqlite3\n",
      "_cffi_backend       code                msvcrt              sre_compile\n",
      "_codecs             codecs              multipledispatch    sre_constants\n",
      "_codecs_cn          codeop              multiprocessing     sre_parse\n",
      "_codecs_hk          collections         navigator_updater   ssl\n",
      "_codecs_iso2022     colorama            nbconvert           sspi\n",
      "_codecs_jp          colorsys            nbformat            sspicon\n",
      "_codecs_kr          commctrl            netbios             stat\n",
      "_codecs_tw          compileall          netrc               statistics\n",
      "_collections        comtypes            networkx            statsmodels\n",
      "_collections_abc    concurrent          nltk                storemagic\n",
      "_compat_pickle      conda               nntplib             string\n",
      "_compression        conda_build         nose                stringprep\n",
      "_contextvars        conda_env           notebook            struct\n",
      "_csv                conda_package_handling nt                  subprocess\n",
      "_ctypes             conda_verify        ntpath              sunau\n",
      "_ctypes_test        configparser        ntsecuritycon       symbol\n",
      "_datetime           constantly          nturl2path          sympy\n",
      "_decimal            contextlib          numba               sympyprinting\n",
      "_dummy_thread       contextlib2         numbers             symtable\n",
      "_elementtree        contextvars         numexpr             sys\n",
      "_functools          copy                numpy               sysconfig\n",
      "_hashlib            copyreg             numpydoc            tables\n",
      "_heapq              crypt               odbc                tabnanny\n",
      "_imp                cryptography        odo                 tarfile\n",
      "_io                 csv                 olefile             tblib\n",
      "_json               ctypes              opcode              telnetlib\n",
      "_locale             curl                openpyxl            tempfile\n",
      "_lsprof             curses              operator            terminado\n",
      "_lzma               cwp                 optparse            test\n",
      "_markupbase         cycler              os                  test_data\n",
      "_md5                cython              packaging           test_path\n",
      "_msi                cythonmagic         pandas              test_pycosat\n",
      "_multibytecodec     cytoolz             pandocfilters       testpath\n",
      "_multiprocessing    dask                parser              tests\n",
      "_nsis               dataclasses         parso               textwrap\n",
      "_opcode             datashape           partd               this\n",
      "_operator           datetime            past                threading\n",
      "_osx_support        dateutil            path                time\n",
      "_overlapped         dbi                 pathlib             timeit\n",
      "_pickle             dbm                 pathlib2            timer\n",
      "_py_abc             dde                 patsy               tkinter\n",
      "_pydecimal          decimal             pdb                 tlz\n",
      "_pyio               decorator           pep8                token\n",
      "_pylief             defusedxml          perfmon             tokenize\n",
      "_pyrsistent_version difflib             pickle              toolz\n",
      "_pytest             dis                 pickleshare         tornado\n",
      "_queue              distributed         pickletools         tqdm\n",
      "_random             distutils           pip                 trace\n",
      "_sha1               doctest             pipes               traceback\n",
      "_sha256             docutils            pkg_resources       tracemalloc\n",
      "_sha3               dummy_threading     pkginfo             traitlets\n",
      "_sha512             easy_install        pkgutil             tty\n",
      "_signal             email               platform            turtle\n",
      "_sitebuiltins       encodings           plistlib            turtledemo\n",
      "_socket             ensurepip           pluggy              twisted\n",
      "_sqlite3            entrypoints         ply                 types\n",
      "_sre                enum                poplib              typing\n",
      "_ssl                errno               posixpath           unicodecsv\n",
      "_stat               et_xmlfile          pprint              unicodedata\n",
      "_string             fastcache           profile             unittest\n",
      "_strptime           faulthandler        prometheus_client   urllib\n",
      "_struct             filecmp             prompt_toolkit      urllib3\n",
      "_symtable           fileinput           pstats              uu\n",
      "_system_path        filelock            psutil              uuid\n",
      "_testbuffer         flask               pty                 venv\n",
      "_testcapi           flask_cors          pvectorc            warnings\n",
      "_testconsole        fnmatch             py                  wave\n",
      "_testimportmultiple formatter           py_compile          wcwidth\n",
      "_testmultiphase     fractions           pyasn1              weakref\n",
      "_thread             ftplib              pyasn1_modules      webbrowser\n",
      "_threading_local    functools           pyclbr              webencodings\n",
      "_tkinter            future              pycodestyle         werkzeug\n",
      "_tracemalloc        gc                  pycosat             wheel\n",
      "_warnings           genericpath         pycparser           widgetsnbextension\n",
      "_weakref            getopt              pycurl              win2kras\n",
      "_weakrefset         getpass             pydoc               win32api\n",
      "_win32sysloader     gettext             pydoc_data          win32clipboard\n",
      "_winapi             gevent              pydotplus           win32com\n",
      "_winxptheme         glob                pyexpat             win32con\n",
      "_yaml               glob2               pyflakes            win32console\n",
      "abc                 graphviz            pygments            win32cred\n",
      "adodbapi            greenlet            pylab               win32crypt\n",
      "afxres              gzip                pylint              win32cryptcon\n",
      "aifc                h5py                pyodbc              win32event\n",
      "alabaster           hamcrest            pyparsing           win32evtlog\n",
      "anaconda_navigator  hashlib             pyreadline          win32evtlogutil\n",
      "anaconda_project    heapdict            pyrsistent          win32file\n",
      "antigravity         heapq               pytest              win32gui\n",
      "appdirs             hmac                pytest_arraydiff    win32gui_struct\n",
      "argparse            html                pytest_doctestplus  win32help\n",
      "array               html5lib            pytest_openfiles    win32inet\n",
      "asn1crypto          http                pytest_remotedata   win32inetcon\n",
      "ast                 hyperlink           pythoncom           win32job\n",
      "astroid             idlelib             pytz                win32lz\n",
      "astropy             idna                pywin               win32net\n",
      "asynchat            imageio             pywin32_testutil    win32netcon\n",
      "asyncio             imagesize           pywintypes          win32pdh\n",
      "asyncore            imaplib             pywt                win32pdhquery\n",
      "atexit              imghdr              pyximport           win32pdhutil\n",
      "atomicwrites        imp                 qtawesome           win32pipe\n",
      "attr                importlib           qtconsole           win32print\n",
      "audioop             importlib_metadata  qtpy                win32process\n",
      "automat             incremental         queue               win32profile\n"
     ]
    },
    {
     "name": "stdout",
     "output_type": "stream",
     "text": [
      "autoreload          inspect             quopri              win32ras\n",
      "babel               io                  random              win32rcparser\n",
      "backcall            ipaddress           rasutil             win32security\n",
      "backports           ipykernel           re                  win32service\n",
      "base64              ipykernel_launcher  readline            win32serviceutil\n",
      "bcrypt              ipython_genutils    regcheck            win32timezone\n",
      "bdb                 ipywidgets          regutil             win32trace\n",
      "binascii            isapi               reprlib             win32traceutil\n",
      "binhex              isort               requests            win32transaction\n",
      "binstar_client      isympy              rlcompleter         win32ts\n",
      "bisect              itertools           rmagic              win32ui\n",
      "bitarray            itsdangerous        rope                win32uiole\n",
      "bkcharts            jdcal               ruamel_yaml         win32verstamp\n",
      "blaze               jedi                run                 win32wnet\n",
      "bleach              jinja2              runpy               win_inet_pton\n",
      "bokeh               json                sched               win_unicode_console\n",
      "boto                jsonschema          scipy               wincertstore\n",
      "bottleneck          jupyter             scripts             winerror\n",
      "brain_argparse      jupyter_client      seaborn             winioctlcon\n",
      "brain_attrs         jupyter_console     secrets             winnt\n",
      "brain_builtin_inference jupyter_core        select              winperf\n",
      "brain_collections   jupyterlab          selectors           winpty\n",
      "brain_curses        jupyterlab_launcher send2trash          winreg\n",
      "brain_dateutil      jupyterlab_server   service_identity    winsound\n",
      "brain_fstrings      keyring             servicemanager      winxpgui\n",
      "brain_functools     keyword             setuptools          winxptheme\n",
      "brain_gi            kiwisolver          shelve              wrapt\n",
      "brain_hashlib       lazy_object_proxy   shlex               wsgiref\n",
      "brain_http          lib2to3             shutil              xdrlib\n",
      "brain_io            libarchive          signal              xlrd\n",
      "brain_mechanize     libfuturize         simplegeneric       xlsxwriter\n",
      "brain_multiprocessing libpasteurize       singledispatch      xlwings\n",
      "brain_namedtuple_enum lief                singledispatch_helpers xlwt\n",
      "brain_nose          linecache           sip                 xml\n",
      "brain_numpy         llvmlite            sipconfig           xmlrpc\n",
      "brain_pkg_resources locale              sipdistutils        xxsubtype\n",
      "brain_pytest        locket              site                yaml\n",
      "brain_qt            logging             six                 zict\n",
      "brain_random        lxml                skimage             zipapp\n",
      "brain_re            lzma                sklearn             zipfile\n",
      "brain_six           macpath             smtpd               zipimport\n",
      "brain_ssl           mailbox             smtplib             zipp\n",
      "brain_subprocess    mailcap             sndhdr              zlib\n",
      "brain_threading     markupsafe          snowballstemmer     zmq\n",
      "brain_typing        marshal             socket              zope\n",
      "brain_uuid          math                socketserver        \n",
      "bs4                 matplotlib          socks               \n",
      "builtins            mccabe              sockshandler        \n",
      "\n",
      "Enter any module name to get more help.  Or, type \"modules spam\" to search\n",
      "for modules whose name or summary contain the string \"spam\".\n",
      "\n",
      "None\n",
      "DEBUG:matplotlib.pyplot:Loaded backend module://ipykernel.pylab.backend_inline version unknown.\n"
     ]
    }
   ],
   "source": [
    "#modules\n",
    "print(help(\"modules\"))"
   ]
  },
  {
   "cell_type": "code",
   "execution_count": 39,
   "metadata": {
    "collapsed": true
   },
   "outputs": [
    {
     "name": "stdout",
     "output_type": "stream",
     "text": [
      "Package                            Version\n",
      "---------------------------------- ---------\n",
      "alabaster                          0.7.12\n",
      "anaconda-client                    1.7.2\n",
      "anaconda-navigator                 1.9.7\n",
      "anaconda-project                   0.8.2\n",
      "appdirs                            1.4.4\n",
      "asn1crypto                         0.24.0\n",
      "astroid                            2.2.5\n",
      "astropy                            3.1.2\n",
      "atomicwrites                       1.3.0\n",
      "attrs                              19.1.0\n",
      "Automat                            20.2.0\n",
      "Babel                              2.6.0\n",
      "backcall                           0.1.0\n",
      "backports.os                       0.1.1\n",
      "backports.shutil-get-terminal-size 1.0.0\n",
      "bcrypt                             3.1.6\n",
      "beautifulsoup4                     4.7.1\n",
      "bitarray                           0.8.3\n",
      "bkcharts                           0.2\n",
      "blaze                              0.11.3\n",
      "bleach                             3.1.0\n",
      "bokeh                              1.0.4\n",
      "boto                               2.49.0\n",
      "Bottleneck                         1.2.1\n",
      "certifi                            2020.12.5\n",
      "cffi                               1.12.2\n",
      "chardet                            3.0.4\n",
      "Click                              7.0\n",
      "cloudpickle                        0.8.0\n",
      "clyent                             1.2.2\n",
      "colorama                           0.4.1\n",
      "comtypes                           1.1.7\n",
      "conda                              4.9.2\n",
      "conda-build                        3.17.8\n",
      "conda-package-handling             1.3.11\n",
      "conda-verify                       3.1.1\n",
      "constantly                         15.1.0\n",
      "contextlib2                        0.5.5\n",
      "cryptography                       2.6.1\n",
      "cycler                             0.10.0\n",
      "Cython                             0.29.6\n",
      "cytoolz                            0.9.0.1\n",
      "dask                               1.1.4\n",
      "datashape                          0.5.4\n",
      "decorator                          4.4.0\n",
      "defusedxml                         0.5.0\n",
      "distributed                        1.26.0\n",
      "docutils                           0.14\n",
      "entrypoints                        0.3\n",
      "et-xmlfile                         1.0.1\n",
      "fastcache                          1.0.2\n",
      "filelock                           3.0.10\n",
      "Flask                              1.0.2\n",
      "Flask-Cors                         3.0.10\n",
      "future                             0.17.1\n",
      "gevent                             1.4.0\n",
      "glob2                              0.6\n",
      "graphviz                           0.14.1\n",
      "greenlet                           0.4.15\n",
      "h5py                               2.9.0\n",
      "heapdict                           1.0.0\n",
      "html5lib                           1.0.1\n",
      "hyperlink                          21.0.0\n",
      "idna                               2.8\n",
      "imageio                            2.5.0\n",
      "imagesize                          1.1.0\n",
      "importlib-metadata                 0.0.0\n",
      "incremental                        17.5.0\n",
      "ipykernel                          5.1.0\n",
      "ipython                            7.4.0\n",
      "ipython-genutils                   0.2.0\n",
      "ipywidgets                         7.4.2\n",
      "isort                              4.3.16\n",
      "itsdangerous                       1.1.0\n",
      "jdcal                              1.4\n",
      "jedi                               0.13.3\n",
      "Jinja2                             2.10\n",
      "jsonschema                         3.0.1\n",
      "jupyter                            1.0.0\n",
      "jupyter-client                     5.2.4\n",
      "jupyter-console                    6.0.0\n",
      "jupyter-core                       4.4.0\n",
      "jupyterlab                         0.35.4\n",
      "jupyterlab-launcher                0.13.1\n",
      "jupyterlab-server                  0.2.0\n",
      "keyring                            18.0.0\n",
      "kiwisolver                         1.0.1\n",
      "lazy-object-proxy                  1.3.1\n",
      "libarchive-c                       2.8\n",
      "llvmlite                           0.28.0\n",
      "locket                             0.2.0\n",
      "lxml                               4.3.2\n",
      "MarkupSafe                         1.1.1\n",
      "matplotlib                         3.0.3\n",
      "mccabe                             0.6.1\n",
      "menuinst                           1.4.16\n",
      "mistune                            0.8.4\n",
      "mkl-fft                            1.0.10\n",
      "mkl-random                         1.0.2\n",
      "more-itertools                     6.0.0\n",
      "mpmath                             1.1.0\n",
      "msgpack                            0.6.1\n",
      "multipledispatch                   0.6.0\n",
      "navigator-updater                  0.2.1\n",
      "nbconvert                          5.4.1\n",
      "nbformat                           4.4.0\n",
      "networkx                           2.2\n",
      "nltk                               3.4\n",
      "nose                               1.3.7\n",
      "notebook                           5.7.8\n",
      "numba                              0.43.1\n",
      "numexpr                            2.6.9\n",
      "numpy                              1.16.2\n",
      "numpydoc                           0.8.0\n",
      "odo                                0.5.1\n",
      "olefile                            0.46\n",
      "openpyxl                           2.6.1\n",
      "packaging                          19.0\n",
      "pandas                             0.24.2\n",
      "pandocfilters                      1.4.2\n",
      "parso                              0.3.4\n",
      "partd                              0.3.10\n",
      "path.py                            11.5.0\n",
      "pathlib2                           2.3.3\n",
      "patsy                              0.5.1\n",
      "pep8                               1.7.1\n",
      "pickleshare                        0.7.5\n",
      "Pillow                             5.4.1\n",
      "pip                                20.2.3\n",
      "pkginfo                            1.5.0.1\n",
      "pluggy                             0.9.0\n",
      "ply                                3.11\n",
      "prometheus-client                  0.6.0\n",
      "prompt-toolkit                     2.0.9\n",
      "psutil                             5.6.1\n",
      "py                                 1.8.0\n",
      "pyasn1                             0.4.8\n",
      "pyasn1-modules                     0.2.8\n",
      "pycodestyle                        2.5.0\n",
      "pycosat                            0.6.3\n",
      "pycparser                          2.19\n",
      "pycrypto                           2.6.1\n",
      "pycurl                             7.43.0.2\n",
      "pydotplus                          2.0.2\n",
      "pyflakes                           2.1.1\n",
      "Pygments                           2.3.1\n",
      "PyHamcrest                         2.0.2\n",
      "pylint                             2.3.1\n",
      "pyodbc                             4.0.26\n",
      "pyOpenSSL                          19.0.0\n",
      "pyparsing                          2.3.1\n",
      "pyreadline                         2.1\n",
      "pyrsistent                         0.14.11\n",
      "PySocks                            1.6.8\n",
      "pytest                             4.3.1\n",
      "pytest-arraydiff                   0.3\n",
      "pytest-astropy                     0.5.0\n",
      "pytest-doctestplus                 0.3.0\n",
      "pytest-openfiles                   0.3.2\n",
      "pytest-remotedata                  0.3.1\n",
      "python-dateutil                    2.8.0\n",
      "pytz                               2018.9\n",
      "PyWavelets                         1.0.2\n",
      "pywin32                            223\n",
      "pywinpty                           0.5.5\n",
      "PyYAML                             5.1\n",
      "pyzmq                              18.0.0\n",
      "QtAwesome                          0.5.7\n",
      "qtconsole                          4.4.3\n",
      "QtPy                               1.7.0\n",
      "requests                           2.21.0\n",
      "rope                               0.12.0\n",
      "ruamel-yaml                        0.15.46\n",
      "scikit-image                       0.14.2\n",
      "scikit-learn                       0.20.3\n",
      "scipy                              1.2.1\n",
      "seaborn                            0.9.0\n",
      "Send2Trash                         1.5.0\n",
      "service-identity                   18.1.0\n",
      "setuptools                         40.8.0\n",
      "simplegeneric                      0.8.1\n",
      "singledispatch                     3.4.0.3\n",
      "six                                1.12.0\n",
      "snowballstemmer                    1.2.1\n",
      "sortedcollections                  1.1.2\n",
      "sortedcontainers                   2.1.0\n",
      "soupsieve                          1.8\n",
      "Sphinx                             1.8.5\n",
      "sphinxcontrib-websupport           1.1.0\n",
      "spyder                             3.3.3\n",
      "spyder-kernels                     0.4.2\n",
      "SQLAlchemy                         1.3.1\n",
      "statsmodels                        0.9.0\n",
      "sympy                              1.3\n",
      "tables                             3.5.1\n",
      "tblib                              1.3.2\n",
      "terminado                          0.8.1\n"
     ]
    },
    {
     "name": "stdout",
     "output_type": "stream",
     "text": [
      "testpath                           0.4.2\n",
      "toolz                              0.9.0\n",
      "tornado                            6.0.2\n",
      "tqdm                               4.31.1\n",
      "traitlets                          4.3.2\n",
      "Twisted                            19.2.0\n",
      "unicodecsv                         0.14.1\n",
      "urllib3                            1.24.1\n",
      "wcwidth                            0.1.7\n",
      "webencodings                       0.5.1\n",
      "Werkzeug                           0.14.1\n",
      "wheel                              0.33.1\n",
      "widgetsnbextension                 3.4.2\n",
      "win-inet-pton                      1.1.0\n",
      "win-unicode-console                0.5\n",
      "wincertstore                       0.2\n",
      "wrapt                              1.11.1\n",
      "xlrd                               1.2.0\n",
      "XlsxWriter                         1.1.5\n",
      "xlwings                            0.15.4\n",
      "xlwt                               1.3.0\n",
      "zict                               0.1.4\n",
      "zipp                               0.3.3\n",
      "zope.interface                     4.6.0\n"
     ]
    },
    {
     "name": "stderr",
     "output_type": "stream",
     "text": [
      "WARNING: You are using pip version 20.2.3; however, version 21.1.1 is available.\n",
      "You should consider upgrading via the 'C:\\Users\\Alekhya\\Anaconda3\\python.exe -m pip install --upgrade pip' command.\n"
     ]
    },
    {
     "name": "stdout",
     "output_type": "stream",
     "text": [
      "Note: you may need to restart the kernel to use updated packages.\n"
     ]
    }
   ],
   "source": [
    "pip list"
   ]
  },
  {
   "cell_type": "code",
   "execution_count": 41,
   "metadata": {},
   "outputs": [],
   "source": [
    "import numpy"
   ]
  },
  {
   "cell_type": "code",
   "execution_count": 40,
   "metadata": {},
   "outputs": [
    {
     "name": "stdout",
     "output_type": "stream",
     "text": [
      "Requirement already satisfied: numpy in c:\\users\\alekhya\\anaconda3\\lib\\site-packages (1.16.2)\n"
     ]
    },
    {
     "name": "stderr",
     "output_type": "stream",
     "text": [
      "WARNING: You are using pip version 20.2.3; however, version 21.1.1 is available.\n",
      "You should consider upgrading via the 'C:\\Users\\Alekhya\\Anaconda3\\python.exe -m pip install --upgrade pip' command.\n"
     ]
    },
    {
     "name": "stdout",
     "output_type": "stream",
     "text": [
      "Note: you may need to restart the kernel to use updated packages.\n"
     ]
    }
   ],
   "source": [
    "pip install numpy"
   ]
  },
  {
   "cell_type": "code",
   "execution_count": 42,
   "metadata": {},
   "outputs": [],
   "source": [
    "import numpy as np\n",
    "#numpy.org"
   ]
  },
  {
   "cell_type": "code",
   "execution_count": 43,
   "metadata": {},
   "outputs": [],
   "source": [
    "# creating an array\n",
    "# 1-d array\n"
   ]
  },
  {
   "cell_type": "code",
   "execution_count": 44,
   "metadata": {
    "collapsed": true
   },
   "outputs": [
    {
     "name": "stdout",
     "output_type": "stream",
     "text": [
      "['ALLOW_THREADS', 'AxisError', 'BUFSIZE', 'CLIP', 'ComplexWarning', 'DataSource', 'ERR_CALL', 'ERR_DEFAULT', 'ERR_IGNORE', 'ERR_LOG', 'ERR_PRINT', 'ERR_RAISE', 'ERR_WARN', 'FLOATING_POINT_SUPPORT', 'FPE_DIVIDEBYZERO', 'FPE_INVALID', 'FPE_OVERFLOW', 'FPE_UNDERFLOW', 'False_', 'Inf', 'Infinity', 'MAXDIMS', 'MAY_SHARE_BOUNDS', 'MAY_SHARE_EXACT', 'MachAr', 'ModuleDeprecationWarning', 'NAN', 'NINF', 'NZERO', 'NaN', 'PINF', 'PZERO', 'RAISE', 'RankWarning', 'SHIFT_DIVIDEBYZERO', 'SHIFT_INVALID', 'SHIFT_OVERFLOW', 'SHIFT_UNDERFLOW', 'ScalarType', 'Tester', 'TooHardError', 'True_', 'UFUNC_BUFSIZE_DEFAULT', 'UFUNC_PYVALS_NAME', 'VisibleDeprecationWarning', 'WRAP', '_NoValue', '_UFUNC_API', '__NUMPY_SETUP__', '__all__', '__builtins__', '__cached__', '__config__', '__doc__', '__file__', '__git_revision__', '__loader__', '__mkl_version__', '__name__', '__package__', '__path__', '__spec__', '__version__', '_add_newdoc_ufunc', '_arg', '_distributor_init', '_globals', '_mat', '_mklinit', '_pytesttester', 'abs', 'absolute', 'absolute_import', 'add', 'add_docstring', 'add_newdoc', 'add_newdoc_ufunc', 'alen', 'all', 'allclose', 'alltrue', 'amax', 'amin', 'angle', 'any', 'append', 'apply_along_axis', 'apply_over_axes', 'arange', 'arccos', 'arccosh', 'arcsin', 'arcsinh', 'arctan', 'arctan2', 'arctanh', 'argmax', 'argmin', 'argpartition', 'argsort', 'argwhere', 'around', 'array', 'array2string', 'array_equal', 'array_equiv', 'array_repr', 'array_split', 'array_str', 'asanyarray', 'asarray', 'asarray_chkfinite', 'ascontiguousarray', 'asfarray', 'asfortranarray', 'asmatrix', 'asscalar', 'atleast_1d', 'atleast_2d', 'atleast_3d', 'average', 'bartlett', 'base_repr', 'binary_repr', 'bincount', 'bitwise_and', 'bitwise_not', 'bitwise_or', 'bitwise_xor', 'blackman', 'block', 'bmat', 'bool', 'bool8', 'bool_', 'broadcast', 'broadcast_arrays', 'broadcast_to', 'busday_count', 'busday_offset', 'busdaycalendar', 'byte', 'byte_bounds', 'bytes0', 'bytes_', 'c_', 'can_cast', 'cast', 'cbrt', 'cdouble', 'ceil', 'cfloat', 'char', 'character', 'chararray', 'choose', 'clip', 'clongdouble', 'clongfloat', 'column_stack', 'common_type', 'compare_chararrays', 'compat', 'complex', 'complex128', 'complex64', 'complex_', 'complexfloating', 'compress', 'concatenate', 'conj', 'conjugate', 'convolve', 'copy', 'copysign', 'copyto', 'core', 'corrcoef', 'correlate', 'cos', 'cosh', 'count_nonzero', 'cov', 'cross', 'csingle', 'ctypeslib', 'cumprod', 'cumproduct', 'cumsum', 'datetime64', 'datetime_as_string', 'datetime_data', 'deg2rad', 'degrees', 'delete', 'deprecate', 'deprecate_with_doc', 'diag', 'diag_indices', 'diag_indices_from', 'diagflat', 'diagonal', 'diff', 'digitize', 'disp', 'distutils', 'divide', 'division', 'divmod', 'doc', 'dot', 'double', 'dsplit', 'dstack', 'dtype', 'dual', 'e', 'ediff1d', 'einsum', 'einsum_path', 'emath', 'empty', 'empty_like', 'equal', 'errstate', 'euler_gamma', 'exp', 'exp2', 'expand_dims', 'expm1', 'extract', 'eye', 'f2py', 'fabs', 'fastCopyAndTranspose', 'fft', 'fill_diagonal', 'find_common_type', 'finfo', 'fix', 'flatiter', 'flatnonzero', 'flexible', 'flip', 'fliplr', 'flipud', 'float', 'float16', 'float32', 'float64', 'float_', 'float_power', 'floating', 'floor', 'floor_divide', 'fmax', 'fmin', 'fmod', 'format_float_positional', 'format_float_scientific', 'format_parser', 'frexp', 'frombuffer', 'fromfile', 'fromfunction', 'fromiter', 'frompyfunc', 'fromregex', 'fromstring', 'full', 'full_like', 'fv', 'gcd', 'generic', 'genfromtxt', 'geomspace', 'get_array_wrap', 'get_include', 'get_printoptions', 'getbufsize', 'geterr', 'geterrcall', 'geterrobj', 'gradient', 'greater', 'greater_equal', 'half', 'hamming', 'hanning', 'heaviside', 'histogram', 'histogram2d', 'histogram_bin_edges', 'histogramdd', 'hsplit', 'hstack', 'hypot', 'i0', 'identity', 'iinfo', 'imag', 'in1d', 'index_exp', 'indices', 'inexact', 'inf', 'info', 'infty', 'inner', 'insert', 'int', 'int0', 'int16', 'int32', 'int64', 'int8', 'int_', 'int_asbuffer', 'intc', 'integer', 'interp', 'intersect1d', 'intp', 'invert', 'ipmt', 'irr', 'is_busday', 'isclose', 'iscomplex', 'iscomplexobj', 'isfinite', 'isfortran', 'isin', 'isinf', 'isnan', 'isnat', 'isneginf', 'isposinf', 'isreal', 'isrealobj', 'isscalar', 'issctype', 'issubclass_', 'issubdtype', 'issubsctype', 'iterable', 'ix_', 'kaiser', 'kron', 'lcm', 'ldexp', 'left_shift', 'less', 'less_equal', 'lexsort', 'lib', 'linalg', 'linspace', 'little_endian', 'load', 'loads', 'loadtxt', 'log', 'log10', 'log1p', 'log2', 'logaddexp', 'logaddexp2', 'logical_and', 'logical_not', 'logical_or', 'logical_xor', 'logspace', 'long', 'longcomplex', 'longdouble', 'longfloat', 'longlong', 'lookfor', 'ma', 'mafromtxt', 'mask_indices', 'mat', 'math', 'matmul', 'matrix', 'matrixlib', 'max', 'maximum', 'maximum_sctype', 'may_share_memory', 'mean', 'median', 'memmap', 'meshgrid', 'mgrid', 'min', 'min_scalar_type', 'minimum', 'mintypecode', 'mirr', 'mod', 'modf', 'moveaxis', 'msort', 'multiply', 'nan', 'nan_to_num', 'nanargmax', 'nanargmin', 'nancumprod', 'nancumsum', 'nanmax', 'nanmean', 'nanmedian', 'nanmin', 'nanpercentile', 'nanprod', 'nanquantile', 'nanstd', 'nansum', 'nanvar', 'nbytes', 'ndarray', 'ndenumerate', 'ndfromtxt', 'ndim', 'ndindex', 'nditer', 'negative', 'nested_iters', 'newaxis', 'nextafter', 'nonzero', 'not_equal', 'nper', 'npv', 'numarray', 'number', 'obj2sctype', 'object', 'object0', 'object_', 'ogrid', 'oldnumeric', 'ones', 'ones_like', 'outer', 'packbits', 'pad', 'partition', 'percentile', 'pi', 'piecewise', 'place', 'pmt', 'poly', 'poly1d', 'polyadd', 'polyder', 'polydiv', 'polyfit', 'polyint', 'polymul', 'polynomial', 'polysub', 'polyval', 'positive', 'power', 'ppmt', 'print_function', 'printoptions', 'prod', 'product', 'promote_types', 'ptp', 'put', 'put_along_axis', 'putmask', 'pv', 'quantile', 'r_', 'rad2deg', 'radians', 'random', 'random_intel', 'rank', 'rate', 'ravel', 'ravel_multi_index', 'real', 'real_if_close', 'rec', 'recarray', 'recfromcsv', 'recfromtxt', 'reciprocal', 'record', 'remainder', 'repeat', 'require', 'reshape', 'resize', 'result_type', 'right_shift', 'rint', 'roll', 'rollaxis', 'roots', 'rot90', 'round', 'round_', 'row_stack', 's_', 'safe_eval', 'save', 'savetxt', 'savez', 'savez_compressed', 'sctype2char', 'sctypeDict', 'sctypeNA', 'sctypes', 'searchsorted', 'select', 'set_numeric_ops', 'set_printoptions', 'set_string_function', 'setbufsize', 'setdiff1d', 'seterr', 'seterrcall', 'seterrobj', 'setxor1d', 'shape', 'shares_memory', 'short', 'show_config', 'sign', 'signbit', 'signedinteger', 'sin', 'sinc', 'single', 'singlecomplex', 'sinh', 'size', 'sometrue', 'sort', 'sort_complex', 'source', 'spacing', 'split', 'sqrt', 'square', 'squeeze', 'stack', 'std', 'str', 'str0', 'str_', 'string_', 'subtract', 'sum', 'swapaxes', 'sys', 'take', 'take_along_axis', 'tan', 'tanh', 'tensordot', 'test', 'testing', 'tests', 'tile', 'timedelta64', 'trace', 'tracemalloc_domain', 'transpose', 'trapz', 'tri', 'tril', 'tril_indices', 'tril_indices_from', 'trim_zeros', 'triu', 'triu_indices', 'triu_indices_from', 'true_divide', 'trunc', 'typeDict', 'typeNA', 'typecodes', 'typename', 'ubyte', 'ufunc', 'uint', 'uint0', 'uint16', 'uint32', 'uint64', 'uint8', 'uintc', 'uintp', 'ulonglong', 'unicode', 'unicode_', 'union1d', 'unique', 'unpackbits', 'unravel_index', 'unsignedinteger', 'unwrap', 'ushort', 'vander', 'var', 'vdot', 'vectorize', 'version', 'void', 'void0', 'vsplit', 'vstack', 'warnings', 'where', 'who', 'zeros', 'zeros_like']\n"
     ]
    }
   ],
   "source": [
    "print(dir(np))"
   ]
  },
  {
   "cell_type": "code",
   "execution_count": 47,
   "metadata": {},
   "outputs": [],
   "source": [
    "a = np.array([1,2,3,4,5])"
   ]
  },
  {
   "cell_type": "code",
   "execution_count": 48,
   "metadata": {},
   "outputs": [
    {
     "data": {
      "text/plain": [
       "array([1, 2, 3, 4, 5])"
      ]
     },
     "execution_count": 48,
     "metadata": {},
     "output_type": "execute_result"
    }
   ],
   "source": [
    "a"
   ]
  },
  {
   "cell_type": "code",
   "execution_count": 49,
   "metadata": {},
   "outputs": [
    {
     "data": {
      "text/plain": [
       "dtype('int32')"
      ]
     },
     "execution_count": 49,
     "metadata": {},
     "output_type": "execute_result"
    }
   ],
   "source": [
    "a.dtype"
   ]
  },
  {
   "cell_type": "code",
   "execution_count": 50,
   "metadata": {},
   "outputs": [
    {
     "data": {
      "text/plain": [
       "dtype('<U1')"
      ]
     },
     "execution_count": 50,
     "metadata": {},
     "output_type": "execute_result"
    }
   ],
   "source": [
    "b = np.array([\"a\"])\n",
    "b.dtype"
   ]
  },
  {
   "cell_type": "code",
   "execution_count": 51,
   "metadata": {},
   "outputs": [],
   "source": [
    "c = np.array([\"a\",9.7,34])"
   ]
  },
  {
   "cell_type": "code",
   "execution_count": 54,
   "metadata": {},
   "outputs": [
    {
     "data": {
      "text/plain": [
       "array([1, 2, 3, 4, 5, 6, 7, 8])"
      ]
     },
     "execution_count": 54,
     "metadata": {},
     "output_type": "execute_result"
    }
   ],
   "source": [
    "a = np.append(a,[6,7,8])\n",
    "a"
   ]
  },
  {
   "cell_type": "code",
   "execution_count": 55,
   "metadata": {},
   "outputs": [
    {
     "data": {
      "text/plain": [
       "array([1, 2, 3, 4, 5, 6, 7, 8])"
      ]
     },
     "execution_count": 55,
     "metadata": {},
     "output_type": "execute_result"
    }
   ],
   "source": [
    "a"
   ]
  },
  {
   "cell_type": "code",
   "execution_count": 58,
   "metadata": {},
   "outputs": [
    {
     "data": {
      "text/plain": [
       "array([1, 3, 5, 7, 9])"
      ]
     },
     "execution_count": 58,
     "metadata": {},
     "output_type": "execute_result"
    }
   ],
   "source": [
    "np.arange(1,11,2)"
   ]
  },
  {
   "cell_type": "code",
   "execution_count": 59,
   "metadata": {},
   "outputs": [
    {
     "ename": "TypeError",
     "evalue": "'float' object cannot be interpreted as an integer",
     "output_type": "error",
     "traceback": [
      "\u001b[1;31m---------------------------------------------------------------------------\u001b[0m",
      "\u001b[1;31mTypeError\u001b[0m                                 Traceback (most recent call last)",
      "\u001b[1;32m<ipython-input-59-97bab13abe50>\u001b[0m in \u001b[0;36m<module>\u001b[1;34m\u001b[0m\n\u001b[1;32m----> 1\u001b[1;33m \u001b[0mrange\u001b[0m\u001b[1;33m(\u001b[0m\u001b[1;36m1\u001b[0m\u001b[1;33m,\u001b[0m\u001b[1;36m2.5\u001b[0m\u001b[1;33m)\u001b[0m\u001b[1;33m\u001b[0m\u001b[1;33m\u001b[0m\u001b[0m\n\u001b[0m",
      "\u001b[1;31mTypeError\u001b[0m: 'float' object cannot be interpreted as an integer"
     ]
    }
   ],
   "source": [
    "range(1,2.5)"
   ]
  },
  {
   "cell_type": "code",
   "execution_count": 61,
   "metadata": {},
   "outputs": [
    {
     "data": {
      "text/plain": [
       "array([ 1. ,  3.5,  6. ,  8.5, 11. , 13.5, 16. , 18.5, 21. ])"
      ]
     },
     "execution_count": 61,
     "metadata": {},
     "output_type": "execute_result"
    }
   ],
   "source": [
    "np.arange(1,21.5,2.5)"
   ]
  },
  {
   "cell_type": "code",
   "execution_count": 65,
   "metadata": {},
   "outputs": [
    {
     "data": {
      "text/plain": [
       "array([ 1.        ,  1.47368421,  1.94736842,  2.42105263,  2.89473684,\n",
       "        3.36842105,  3.84210526,  4.31578947,  4.78947368,  5.26315789,\n",
       "        5.73684211,  6.21052632,  6.68421053,  7.15789474,  7.63157895,\n",
       "        8.10526316,  8.57894737,  9.05263158,  9.52631579, 10.        ])"
      ]
     },
     "execution_count": 65,
     "metadata": {},
     "output_type": "execute_result"
    }
   ],
   "source": [
    "a = np.linspace(1,10,20)\n",
    "a"
   ]
  },
  {
   "cell_type": "code",
   "execution_count": 66,
   "metadata": {},
   "outputs": [
    {
     "data": {
      "text/plain": [
       "8"
      ]
     },
     "execution_count": 66,
     "metadata": {},
     "output_type": "execute_result"
    }
   ],
   "source": [
    "a.itemsize"
   ]
  },
  {
   "cell_type": "code",
   "execution_count": 67,
   "metadata": {},
   "outputs": [
    {
     "data": {
      "text/plain": [
       "20"
      ]
     },
     "execution_count": 67,
     "metadata": {},
     "output_type": "execute_result"
    }
   ],
   "source": [
    "len(a)"
   ]
  },
  {
   "cell_type": "code",
   "execution_count": 68,
   "metadata": {},
   "outputs": [
    {
     "data": {
      "text/plain": [
       "160"
      ]
     },
     "execution_count": 68,
     "metadata": {},
     "output_type": "execute_result"
    }
   ],
   "source": [
    "a.nbytes"
   ]
  },
  {
   "cell_type": "code",
   "execution_count": 69,
   "metadata": {},
   "outputs": [
    {
     "data": {
      "text/plain": [
       "array(['apssdc', 'apssdc', 'apssdc', 'apssdc', 'apssdc', 'apssdc',\n",
       "       'apssdc', 'apssdc', 'apssdc', 'apssdc'], dtype='<U6')"
      ]
     },
     "execution_count": 69,
     "metadata": {},
     "output_type": "execute_result"
    }
   ],
   "source": [
    "np.full(10,\"apssdc\")"
   ]
  },
  {
   "cell_type": "code",
   "execution_count": 70,
   "metadata": {},
   "outputs": [
    {
     "data": {
      "text/plain": [
       "array([1., 1., 1., 1., 1., 1., 1., 1., 1., 1.])"
      ]
     },
     "execution_count": 70,
     "metadata": {},
     "output_type": "execute_result"
    }
   ],
   "source": [
    "np.ones(10)"
   ]
  },
  {
   "cell_type": "code",
   "execution_count": 71,
   "metadata": {},
   "outputs": [
    {
     "data": {
      "text/plain": [
       "array([1, 1, 1, 1, 1, 1, 1, 1, 1, 1])"
      ]
     },
     "execution_count": 71,
     "metadata": {},
     "output_type": "execute_result"
    }
   ],
   "source": [
    "np.ones(10,dtype=int)"
   ]
  },
  {
   "cell_type": "code",
   "execution_count": 73,
   "metadata": {},
   "outputs": [
    {
     "data": {
      "text/plain": [
       "array([0., 0., 0., 0., 0.])"
      ]
     },
     "execution_count": 73,
     "metadata": {},
     "output_type": "execute_result"
    }
   ],
   "source": [
    "np.zeros(5)"
   ]
  },
  {
   "cell_type": "code",
   "execution_count": 74,
   "metadata": {},
   "outputs": [
    {
     "data": {
      "text/plain": [
       "array([0, 0, 0, 0, 0])"
      ]
     },
     "execution_count": 74,
     "metadata": {},
     "output_type": "execute_result"
    }
   ],
   "source": [
    "np.zeros(5,dtype=int)"
   ]
  },
  {
   "cell_type": "code",
   "execution_count": 78,
   "metadata": {
    "scrolled": false
   },
   "outputs": [
    {
     "data": {
      "text/plain": [
       "array([[1., 0., 0., 0., 0.],\n",
       "       [0., 1., 0., 0., 0.],\n",
       "       [0., 0., 1., 0., 0.],\n",
       "       [0., 0., 0., 1., 0.],\n",
       "       [0., 0., 0., 0., 1.]])"
      ]
     },
     "execution_count": 78,
     "metadata": {},
     "output_type": "execute_result"
    }
   ],
   "source": [
    "v = np.eye(5)\n",
    "v"
   ]
  },
  {
   "cell_type": "code",
   "execution_count": 79,
   "metadata": {},
   "outputs": [
    {
     "data": {
      "text/plain": [
       "2"
      ]
     },
     "execution_count": 79,
     "metadata": {},
     "output_type": "execute_result"
    }
   ],
   "source": [
    "v.ndim"
   ]
  },
  {
   "cell_type": "code",
   "execution_count": 76,
   "metadata": {},
   "outputs": [],
   "source": [
    "a = np.array([1,6,7])"
   ]
  },
  {
   "cell_type": "code",
   "execution_count": 77,
   "metadata": {},
   "outputs": [
    {
     "data": {
      "text/plain": [
       "1"
      ]
     },
     "execution_count": 77,
     "metadata": {},
     "output_type": "execute_result"
    }
   ],
   "source": [
    "a.ndim"
   ]
  },
  {
   "cell_type": "code",
   "execution_count": null,
   "metadata": {},
   "outputs": [],
   "source": []
  }
 ],
 "metadata": {
  "kernelspec": {
   "display_name": "Python 3",
   "language": "python",
   "name": "python3"
  },
  "language_info": {
   "codemirror_mode": {
    "name": "ipython",
    "version": 3
   },
   "file_extension": ".py",
   "mimetype": "text/x-python",
   "name": "python",
   "nbconvert_exporter": "python",
   "pygments_lexer": "ipython3",
   "version": "3.7.3"
  }
 },
 "nbformat": 4,
 "nbformat_minor": 2
}
